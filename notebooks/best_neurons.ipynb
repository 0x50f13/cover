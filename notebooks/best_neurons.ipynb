{
 "cells": [
  {
   "cell_type": "markdown",
   "id": "large-alcohol",
   "metadata": {},
   "source": [
    "# Finding location neurons\n",
    "A location neurons are neurons which are activated when animal is located in particular place. In this notebook few methods of identifying such neurons will be suggested.\n",
    "## Method 1. Use by-neuron spatial information"
   ]
  },
  {
   "cell_type": "markdown",
   "id": "refined-finding",
   "metadata": {},
   "source": [
    "<p>Considering all positions where mouse was we can divide arena in parts which will be called as \"bins\" further. Such a division can be made by $k$-means algorithm.</p>\n",
    "<p> The spatial information score is the probability of a mouse being in particular place(i.e. bean) multiplied on the mean value of mouse being in a particular bin when neuron is active. In mathematical terms:\n",
    "    $$\n",
    "    \\displaystyle\n",
    "    SI=\\sum_{i=1}^{n} \\theta(a_i-a_{min})\\mathbf{P}(p\\in B_i)\\mathbf{E}(a|p\\in B_i)log_2\\left(\\frac{\\mathbf{E}(a|p\\in B_i)}{\\mathbf{E}(a)}\\right)\n",
    "    $$\n",
    "</p>\n",
    "<p> In order to find best neurons we take $n$ neurons with the highest $SI$ score."
   ]
  },
  {
   "cell_type": "code",
   "execution_count": 1,
   "id": "established-mission",
   "metadata": {},
   "outputs": [],
   "source": [
    "import os\n",
    "import pandas as pd\n",
    "import numpy as np\n",
    "import matplotlib.pyplot as plt\n",
    "from sklearn.cluster import KMeans\n",
    "from tqdm import trange\n",
    "from math import *"
   ]
  },
  {
   "cell_type": "code",
   "execution_count": 2,
   "id": "invisible-weekend",
   "metadata": {},
   "outputs": [],
   "source": [
    "atRoot = 'atRoot' in vars()\n",
    "if not atRoot:\n",
    "    os.chdir(\"..\")\n",
    "atRoot = True"
   ]
  },
  {
   "cell_type": "code",
   "execution_count": 3,
   "id": "dress-recording",
   "metadata": {},
   "outputs": [],
   "source": [
    "DATASET=\"data/22ht1_normalized.csv\" # Dataset path\n",
    "N_BINS=10 # How many bins to use \n",
    "\n",
    "data=pd.read_csv(DATASET)"
   ]
  },
  {
   "cell_type": "code",
   "execution_count": 4,
   "id": "least-recommendation",
   "metadata": {},
   "outputs": [],
   "source": [
    "extract_pos = lambda data: pd.DataFrame({\"x\": data[\"x\"],\"y\": data[\"y\"]},columns = [\"x\", \"y\"])\n",
    "unique = lambda data: list(set(data))\n",
    "def make_bins(data):\n",
    "    kmeans = KMeans(n_clusters=N_BINS).fit(data)\n",
    "    return kmeans.labels_"
   ]
  },
  {
   "cell_type": "code",
   "execution_count": 5,
   "id": "timely-benchmark",
   "metadata": {},
   "outputs": [],
   "source": [
    "def calc_p_in_bin(labels):\n",
    "    p_in_bin=dict()\n",
    "    for b in labels:\n",
    "        if b not in p_in_bin:\n",
    "            p_in_bin[b]=1\n",
    "        else:\n",
    "            p_in_bin[b]+=1\n",
    "    for key in p_in_bin:\n",
    "        p_in_bin[key]/=len(labels)\n",
    "    return p_in_bin"
   ]
  },
  {
   "cell_type": "code",
   "execution_count": 6,
   "id": "great-photography",
   "metadata": {},
   "outputs": [],
   "source": [
    "labels = make_bins(extract_pos(data))\n",
    "p_in_bin = calc_p_in_bin(labels)\n",
    "def si_score(activity, labels, activity_threshold=0.3):\n",
    "    assert len(activity)==len(labels)\n",
    "    score=0.0\n",
    "    exp_activity=np.mean(activity)\n",
    "    for i in range(len(activity)):\n",
    "        if activity[i]<activity_threshold:\n",
    "            continue\n",
    "        pos=labels[i]\n",
    "        activity_in_pos = np.mean(activity[labels == pos])\n",
    "        p_prob=p_in_bin[labels[i]]\n",
    "        if not np.allclose(activity_in_pos,0.0):\n",
    "            score+=p_prob*activity_in_pos*np.log2(activity_in_pos/exp_activity)\n",
    "    return score"
   ]
  },
  {
   "cell_type": "code",
   "execution_count": 9,
   "id": "different-width",
   "metadata": {},
   "outputs": [
    {
     "name": "stderr",
     "output_type": "stream",
     "text": [
      " 99%|█████████▉| 549/554 [45:13<00:08,  1.60s/it]   <ipython-input-6-2be28cebc396>:14: RuntimeWarning: invalid value encountered in log2\n",
      "  score+=p_prob*activity_in_pos*np.log2(activity_in_pos/exp_activity)\n",
      "100%|██████████| 554/554 [45:20<00:00,  4.91s/it]\n"
     ]
    },
    {
     "ename": "NameError",
     "evalue": "name 'x' is not defined",
     "output_type": "error",
     "traceback": [
      "\u001b[0;31m---------------------------------------------------------------------------\u001b[0m",
      "\u001b[0;31mNameError\u001b[0m                                 Traceback (most recent call last)",
      "\u001b[0;32m<ipython-input-9-e9c4d439652e>\u001b[0m in \u001b[0;36m<module>\u001b[0;34m\u001b[0m\n\u001b[1;32m      4\u001b[0m \u001b[0;32mfor\u001b[0m \u001b[0mi\u001b[0m \u001b[0;32min\u001b[0m \u001b[0mtrange\u001b[0m\u001b[0;34m(\u001b[0m\u001b[0mn_neurons\u001b[0m\u001b[0;34m)\u001b[0m\u001b[0;34m:\u001b[0m\u001b[0;34m\u001b[0m\u001b[0;34m\u001b[0m\u001b[0m\n\u001b[1;32m      5\u001b[0m     \u001b[0mscores\u001b[0m\u001b[0;34m[\u001b[0m\u001b[0mi\u001b[0m\u001b[0;34m]\u001b[0m\u001b[0;34m=\u001b[0m\u001b[0;34m(\u001b[0m\u001b[0msi_score\u001b[0m\u001b[0;34m(\u001b[0m\u001b[0mdata\u001b[0m\u001b[0;34m[\u001b[0m\u001b[0mstr\u001b[0m\u001b[0;34m(\u001b[0m\u001b[0mi\u001b[0m\u001b[0;34m)\u001b[0m\u001b[0;34m+\u001b[0m\u001b[0;34m\".0\"\u001b[0m\u001b[0;34m]\u001b[0m\u001b[0;34m,\u001b[0m\u001b[0mlabels\u001b[0m\u001b[0;34m)\u001b[0m\u001b[0;34m)\u001b[0m\u001b[0;34m\u001b[0m\u001b[0;34m\u001b[0m\u001b[0m\n\u001b[0;32m----> 6\u001b[0;31m \u001b[0mscored\u001b[0m\u001b[0;34m=\u001b[0m\u001b[0;34m[\u001b[0m\u001b[0mk\u001b[0m \u001b[0;32mfor\u001b[0m \u001b[0mk\u001b[0m\u001b[0;34m,\u001b[0m \u001b[0mv\u001b[0m \u001b[0;32min\u001b[0m \u001b[0msorted\u001b[0m\u001b[0;34m(\u001b[0m\u001b[0mx\u001b[0m\u001b[0;34m.\u001b[0m\u001b[0mitems\u001b[0m\u001b[0;34m(\u001b[0m\u001b[0;34m)\u001b[0m\u001b[0;34m,\u001b[0m \u001b[0mkey\u001b[0m\u001b[0;34m=\u001b[0m\u001b[0;32mlambda\u001b[0m \u001b[0mitem\u001b[0m\u001b[0;34m:\u001b[0m \u001b[0mitem\u001b[0m\u001b[0;34m[\u001b[0m\u001b[0;36m1\u001b[0m\u001b[0;34m]\u001b[0m\u001b[0;34m)\u001b[0m\u001b[0;34m]\u001b[0m\u001b[0;34m\u001b[0m\u001b[0;34m\u001b[0m\u001b[0m\n\u001b[0m",
      "\u001b[0;31mNameError\u001b[0m: name 'x' is not defined"
     ]
    }
   ],
   "source": [
    "# Find SI score for all neurons\n",
    "n_neurons=554\n",
    "scores=dict()\n",
    "for i in trange(n_neurons):\n",
    "    scores[i]=(si_score(data[str(i)+\".0\"],labels))\n",
    "scored=[k for k, v in sorted(scores.items(), key=lambda item: item[1])]"
   ]
  },
  {
   "cell_type": "markdown",
   "id": "hydraulic-regression",
   "metadata": {},
   "source": [
    "## Method 2. Mutual information\n"
   ]
  },
  {
   "cell_type": "code",
   "execution_count": null,
   "id": "animated-maintenance",
   "metadata": {},
   "outputs": [],
   "source": []
  }
 ],
 "metadata": {
  "kernelspec": {
   "display_name": "Python 3",
   "language": "python",
   "name": "python3"
  },
  "language_info": {
   "codemirror_mode": {
    "name": "ipython",
    "version": 3
   },
   "file_extension": ".py",
   "mimetype": "text/x-python",
   "name": "python",
   "nbconvert_exporter": "python",
   "pygments_lexer": "ipython3",
   "version": "3.8.2"
  }
 },
 "nbformat": 4,
 "nbformat_minor": 5
}
